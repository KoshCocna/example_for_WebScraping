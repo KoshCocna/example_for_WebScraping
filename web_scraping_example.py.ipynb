{
 "cells": [
  {
   "cell_type": "code",
   "execution_count": 1,
   "id": "9e795e06",
   "metadata": {},
   "outputs": [
    {
     "name": "stdout",
     "output_type": "stream",
     "text": [
      "1\n",
      "success!\n",
      "2\n",
      "success!\n",
      "3\n",
      "success!\n",
      "4\n",
      "success!\n",
      "5\n",
      "success!\n"
     ]
    }
   ],
   "source": [
    "import requests\n",
    "from bs4 import BeautifulSoup\n",
    "from time import sleep\n",
    "import pandas as pd\n",
    "\n",
    "data = []\n",
    "\n",
    "for page in range(1, 6):\n",
    "    print(page)\n",
    "    url = f\"https://www.kinopoisk.ru/lists/top250/?page={page}&tab=all\"\n",
    "    try:\n",
    "        r = requests.get(url)\n",
    "        sleep(3)\n",
    "        r.raise_for_status()\n",
    "    except HTTPError as http_err:\n",
    "        print(f'HTTP error occurred: {http_err}')\n",
    "    except Exception as err:\n",
    "        print(f'other error occurred: {err}')\n",
    "    else:\n",
    "        print('success!')\n",
    "    \n",
    "    soup = BeautifulSoup(r.text, 'lxml')\n",
    "    films = soup.findAll('div', class_='desktop-rating-selection-film-item')\n",
    "   \n",
    "    \n",
    "    for film in films:\n",
    "        try:\n",
    "            link = \"https://www.kinopoisk.ru\"+film.find('a', class_='selection-film-item-meta__link').get('href')\n",
    "        except:\n",
    "            link = '-'\n",
    "        try:\n",
    "            rus_name = film.find('a', class_='selection-film-item-meta__link').find('p',class_='selection-film-item-meta__name').text\n",
    "        except:\n",
    "            rus_name = '-'\n",
    "        try:\n",
    "            origin_name = film.find('a', class_='selection-film-item-meta__link').find('p',class_='selection-film-item-meta__original-name').text\n",
    "        except:\n",
    "            origin_name = '-'\n",
    "        try:\n",
    "            add_data = film.find('a', class_='selection-film-item-meta__link').find('p',class_='selection-film-item-meta__meta-additional').findAll('span', class_='selection-film-item-meta__meta-additional-item')\n",
    "        except:\n",
    "            add_data = ['-','-']\n",
    "        country = add_data[0].text\n",
    "        genre = add_data[1].text\n",
    "        try:\n",
    "            rate = film.find('span', class_='rating__value rating__value_positive').text\n",
    "        except:\n",
    "            rate = '-'   \n",
    "        data.append([link, rus_name, origin_name, country, genre, rate])\n",
    "header = ['link', 'rus_name', 'origin_name', 'country', 'genre', 'rate']\n",
    "df = pd.DataFrame(data, columns=header)\n",
    "df.to_csv('best_250films_kinopoisk.csv', sep=';', encoding='utf8')"
   ]
  }
 ],
 "metadata": {
  "kernelspec": {
   "display_name": "Python 3 (ipykernel)",
   "language": "python",
   "name": "python3"
  },
  "language_info": {
   "codemirror_mode": {
    "name": "ipython",
    "version": 3
   },
   "file_extension": ".py",
   "mimetype": "text/x-python",
   "name": "python",
   "nbconvert_exporter": "python",
   "pygments_lexer": "ipython3",
   "version": "3.10.0"
  }
 },
 "nbformat": 4,
 "nbformat_minor": 5
}
